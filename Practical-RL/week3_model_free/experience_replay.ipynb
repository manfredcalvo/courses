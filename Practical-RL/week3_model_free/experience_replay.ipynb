{
  "nbformat": 4,
  "nbformat_minor": 0,
  "metadata": {
    "colab": {
      "name": "experience_replay.ipynb",
      "provenance": []
    },
    "kernelspec": {
      "name": "python3",
      "display_name": "Python 3"
    }
  },
  "cells": [
    {
      "cell_type": "markdown",
      "metadata": {
        "id": "kJkSOx9pzcj0"
      },
      "source": [
        "### Honor Track: experience replay\n",
        "\n",
        "There's a powerful technique that you can use to improve sample efficiency for off-policy algorithms: [spoiler] Experience replay :)\n",
        "\n",
        "The catch is that you can train Q-learning and EV-SARSA on `<s,a,r,s'>` tuples even if they aren't sampled under current agent's policy. So here's what we're gonna do:\n",
        "\n",
        "<img src=https://github.com/yandexdataschool/Practical_RL/raw/master/yet_another_week/_resource/exp_replay.png width=480>\n",
        "\n",
        "#### Training with experience replay\n",
        "1. Play game, sample `<s,a,r,s'>`.\n",
        "2. Update q-values based on `<s,a,r,s'>`.\n",
        "3. Store `<s,a,r,s'>` transition in a buffer. \n",
        " 3. If buffer is full, delete earliest data.\n",
        "4. Sample K such transitions from that buffer and update q-values based on them.\n",
        "\n",
        "\n",
        "To enable such training, first we must implement a memory structure that would act like such a buffer."
      ]
    },
    {
      "cell_type": "code",
      "metadata": {
        "id": "Dwm7ijNLzcj7",
        "outputId": "f6ca9624-1f8b-471c-b2c2-4c641cb038af",
        "colab": {
          "base_uri": "https://localhost:8080/"
        }
      },
      "source": [
        "import sys, os\n",
        "if 'google.colab' in sys.modules and not os.path.exists('.setup_complete'):\n",
        "    !wget -q https://raw.githubusercontent.com/yandexdataschool/Practical_RL/master/setup_colab.sh -O- | bash\n",
        "\n",
        "    !wget -q https://raw.githubusercontent.com/yandexdataschool/Practical_RL/coursera/grading.py -O ../grading.py\n",
        "    !wget -q https://raw.githubusercontent.com/yandexdataschool/Practical_RL/coursera/week3_model_free/submit.py\n",
        "\n",
        "    !touch .setup_complete\n",
        "\n",
        "# This code creates a virtual display to draw game images on.\n",
        "# It will have no effect if your machine has a monitor.\n",
        "if type(os.environ.get(\"DISPLAY\")) is not str or len(os.environ.get(\"DISPLAY\")) == 0:\n",
        "    !bash ../xvfb start\n",
        "    os.environ['DISPLAY'] = ':1'"
      ],
      "execution_count": 1,
      "outputs": [
        {
          "output_type": "stream",
          "text": [
            "Selecting previously unselected package xvfb.\n",
            "(Reading database ... 145480 files and directories currently installed.)\n",
            "Preparing to unpack .../xvfb_2%3a1.19.6-1ubuntu4.8_amd64.deb ...\n",
            "Unpacking xvfb (2:1.19.6-1ubuntu4.8) ...\n",
            "Setting up xvfb (2:1.19.6-1ubuntu4.8) ...\n",
            "Processing triggers for man-db (2.8.3-2ubuntu0.1) ...\n",
            "Starting virtual X frame buffer: Xvfb.\n"
          ],
          "name": "stdout"
        }
      ]
    },
    {
      "cell_type": "code",
      "metadata": {
        "id": "Z--rHj9azcj8"
      },
      "source": [
        "import numpy as np\n",
        "import matplotlib.pyplot as plt\n",
        "%matplotlib inline\n",
        "\n",
        "from IPython.display import clear_output"
      ],
      "execution_count": 2,
      "outputs": []
    },
    {
      "cell_type": "code",
      "metadata": {
        "id": "uxuLSkCAzcj9"
      },
      "source": [
        "from collections import defaultdict\r\n",
        "import random\r\n",
        "import math\r\n",
        "import numpy as np\r\n",
        "\r\n",
        "\r\n",
        "class QLearningAgent:\r\n",
        "    def __init__(self, alpha, epsilon, discount, get_legal_actions):\r\n",
        "        \"\"\"\r\n",
        "        Q-Learning Agent\r\n",
        "        based on https://inst.eecs.berkeley.edu/~cs188/sp19/projects.html\r\n",
        "        Instance variables you have access to\r\n",
        "          - self.epsilon (exploration prob)\r\n",
        "          - self.alpha (learning rate)\r\n",
        "          - self.discount (discount rate aka gamma)\r\n",
        "\r\n",
        "        Functions you should use\r\n",
        "          - self.get_legal_actions(state) {state, hashable -> list of actions, each is hashable}\r\n",
        "            which returns legal actions for a state\r\n",
        "          - self.get_qvalue(state,action)\r\n",
        "            which returns Q(state,action)\r\n",
        "          - self.set_qvalue(state,action,value)\r\n",
        "            which sets Q(state,action) := value\r\n",
        "        !!!Important!!!\r\n",
        "        Note: please avoid using self._qValues directly. \r\n",
        "            There's a special self.get_qvalue/set_qvalue for that.\r\n",
        "        \"\"\"\r\n",
        "\r\n",
        "        self.get_legal_actions = get_legal_actions\r\n",
        "        self._qvalues = defaultdict(lambda: defaultdict(lambda: 0))\r\n",
        "        self.alpha = alpha\r\n",
        "        self.epsilon = epsilon\r\n",
        "        self.discount = discount\r\n",
        "\r\n",
        "    def get_qvalue(self, state, action):\r\n",
        "        \"\"\" Returns Q(state,action) \"\"\"\r\n",
        "        return self._qvalues[state][action]\r\n",
        "\r\n",
        "    def set_qvalue(self, state, action, value):\r\n",
        "        \"\"\" Sets the Qvalue for [state,action] to the given value \"\"\"\r\n",
        "        self._qvalues[state][action] = value\r\n",
        "\r\n",
        "    #---------------------START OF YOUR CODE---------------------#\r\n",
        "\r\n",
        "    def get_value(self, state):\r\n",
        "        \"\"\"\r\n",
        "        Compute your agent's estimate of V(s) using current q-values\r\n",
        "        V(s) = max_over_action Q(state,action) over possible actions.\r\n",
        "        Note: please take into account that q-values can be negative.\r\n",
        "        \"\"\"\r\n",
        "        possible_actions = self.get_legal_actions(state)\r\n",
        "\r\n",
        "        # If there are no legal actions, return 0.0\r\n",
        "        if len(possible_actions) == 0:\r\n",
        "            return 0.0\r\n",
        "\r\n",
        "        q_values = np.array([self.get_qvalue(state, action) for action in possible_actions])\r\n",
        "\r\n",
        "        value = q_values.max()\r\n",
        "\r\n",
        "        return value\r\n",
        "\r\n",
        "    def update(self, state, action, reward, next_state):\r\n",
        "        \"\"\"\r\n",
        "        You should do your Q-Value update here:\r\n",
        "           Q(s,a) := (1 - alpha) * Q(s,a) + alpha * (r + gamma * V(s'))\r\n",
        "        \"\"\"\r\n",
        "\r\n",
        "        # agent parameters\r\n",
        "        gamma = self.discount\r\n",
        "        learning_rate = self.alpha\r\n",
        "\r\n",
        "        next_state_value = self.get_value(next_state) # V(s')\r\n",
        "        previous_q_value = self.get_qvalue(state, action) # Q(s, a)\r\n",
        "\r\n",
        "        #Update rule. Approximating Q function.\r\n",
        "        q_value = (1 - learning_rate) * previous_q_value + learning_rate * (reward + gamma * next_state_value)\r\n",
        "\r\n",
        "        self.set_qvalue(state, action, q_value)\r\n",
        "\r\n",
        "    def get_best_action(self, state):\r\n",
        "        \"\"\"\r\n",
        "        Compute the best action to take in a state (using current q-values). \r\n",
        "        \"\"\"\r\n",
        "        possible_actions = self.get_legal_actions(state)\r\n",
        "\r\n",
        "        # If there are no legal actions, return None\r\n",
        "        if len(possible_actions) == 0:\r\n",
        "            return None\r\n",
        "\r\n",
        "        q_values = np.array([self.get_qvalue(state, action) for action in possible_actions])\r\n",
        "\r\n",
        "        return possible_actions[q_values.argmax()]\r\n",
        "\r\n",
        "    def get_action(self, state):\r\n",
        "        \"\"\"\r\n",
        "        Compute the action to take in the current state, including exploration.  \r\n",
        "        With probability self.epsilon, we should take a random action.\r\n",
        "            otherwise - the best policy action (self.get_best_action).\r\n",
        "\r\n",
        "        Note: To pick randomly from a list, use random.choice(list). \r\n",
        "              To pick True or False with a given probablity, generate uniform number in [0, 1]\r\n",
        "              and compare it with your probability\r\n",
        "        \"\"\"\r\n",
        "\r\n",
        "        # Pick Action\r\n",
        "        possible_actions = self.get_legal_actions(state)\r\n",
        "        action = None\r\n",
        "\r\n",
        "        # If there are no legal actions, return None\r\n",
        "        if len(possible_actions) == 0:\r\n",
        "            return None\r\n",
        "\r\n",
        "        # agent parameters:\r\n",
        "        epsilon = self.epsilon\r\n",
        "\r\n",
        "        flag = np.random.binomial(1, epsilon, 1)[0]\r\n",
        "\r\n",
        "        if flag == 1:\r\n",
        "          chosen_action = np.random.choice(possible_actions)\r\n",
        "        else:\r\n",
        "          chosen_action = self.get_best_action(state)\r\n",
        "\r\n",
        "        return chosen_action"
      ],
      "execution_count": 5,
      "outputs": []
    },
    {
      "cell_type": "code",
      "metadata": {
        "id": "zxGNBAS4zcj9"
      },
      "source": [
        "import random\n",
        "import queue\n",
        "\n",
        "\n",
        "class ReplayBuffer(object):\n",
        "    def __init__(self, size):\n",
        "        \"\"\"\n",
        "        Create Replay buffer.\n",
        "        Parameters\n",
        "        ----------\n",
        "        size: int\n",
        "            Max number of transitions to store in the buffer. When the buffer\n",
        "            overflows the old memories are dropped.\n",
        "\n",
        "        Note: for this assignment you can pick any data structure you want.\n",
        "              If you want to keep it simple, you can store a list of tuples of (s, a, r, s') in self._storage\n",
        "              However you may find out there are faster and/or more memory-efficient ways to do so.\n",
        "        \"\"\"\n",
        "\n",
        "        self._states = queue.Queue(size)\n",
        "        self._actions = queue.Queue(size)\n",
        "        self._rewards = queue.Queue(size)\n",
        "        self._dones = queue.Queue(size)\n",
        "        self._next_states = queue.Queue(size)\n",
        "        self._maxsize = size\n",
        "\n",
        "    def __len__(self):\n",
        "        return self._states.qsize()\n",
        "\n",
        "    def add(self, obs_t, action, reward, obs_tp1, done):\n",
        "        '''\n",
        "        Make sure, _storage will not exceed _maxsize. \n",
        "        Make sure, FIFO rule is being followed: the oldest examples has to be removed earlier\n",
        "        '''\n",
        "\n",
        "        if self._states.full(): #We reach maximum size.\n",
        "          self._states.get()\n",
        "          self._actions.get()\n",
        "          self._rewards.get()\n",
        "          self._next_states.get()\n",
        "          self._dones.get()\n",
        "\n",
        "        self._states.put(obs_t)\n",
        "        self._actions.put(action)\n",
        "        self._rewards.put(reward)\n",
        "        self._next_states.put(obs_tp1)\n",
        "        self._dones.put(done)\n",
        "\n",
        "    def sample(self, batch_size):\n",
        "        \"\"\"Sample a batch of experiences.\n",
        "        Parameters\n",
        "        ----------\n",
        "        batch_size: int\n",
        "            How many transitions to sample.\n",
        "        Returns\n",
        "        -------\n",
        "        obs_batch: np.array\n",
        "            batch of observations\n",
        "        act_batch: np.array\n",
        "            batch of actions executed given obs_batch\n",
        "        rew_batch: np.array\n",
        "            rewards received as results of executing act_batch\n",
        "        next_obs_batch: np.array\n",
        "            next set of observations seen after executing act_batch\n",
        "        done_mask: np.array\n",
        "            done_mask[i] = 1 if executing act_batch[i] resulted in\n",
        "            the end of an episode and 0 otherwise.\n",
        "        \"\"\"\n",
        "        idxes = np.random.choice(self._states.qsize(), size=batch_size, replace=True)\n",
        "\n",
        "        # collect <s,a,r,s',done> for each index\n",
        "        \n",
        "        states = np.array(self._states.queue)\n",
        "        actions = np.array(self._actions.queue)\n",
        "        rewards = np.array(self._rewards.queue)\n",
        "        next_states = np.array(self._next_states.queue)\n",
        "        dones = np.array(self._dones.queue)\n",
        "\n",
        "        return (states[idxes], actions[idxes], rewards[idxes], next_states[idxes], dones[idxes])"
      ],
      "execution_count": 32,
      "outputs": []
    },
    {
      "cell_type": "markdown",
      "metadata": {
        "id": "kRXftyXnzcj-"
      },
      "source": [
        "Some tests to make sure your buffer works right"
      ]
    },
    {
      "cell_type": "code",
      "metadata": {
        "id": "WCwnsVCjzcj_",
        "outputId": "0e5ac94f-e6dc-4627-969e-b22fe8ef563a",
        "colab": {
          "base_uri": "https://localhost:8080/"
        }
      },
      "source": [
        "def obj2arrays(obj):\n",
        "    for x in obj:\n",
        "        yield np.array([x])\n",
        "\n",
        "def obj2sampled(obj):\n",
        "    return tuple(obj2arrays(obj))\n",
        "\n",
        "replay = ReplayBuffer(2)\n",
        "obj1 = (0, 1, 2, 3, True)\n",
        "obj2 = (4, 5, 6, 7, False)\n",
        "replay.add(*obj1)\n",
        "assert replay.sample(1) == obj2sampled(obj1), \\\n",
        "    \"If there's just one object in buffer, it must be retrieved by buf.sample(1)\"\n",
        "replay.add(*obj2)\n",
        "assert len(replay) == 2, \"Please make sure __len__ methods works as intended.\"\n",
        "replay.add(*obj2)\n",
        "assert len(replay) == 2, \"When buffer is at max capacity, replace objects instead of adding new ones.\"\n",
        "assert tuple(np.unique(a) for a in replay.sample(100)) == obj2sampled(obj2)\n",
        "replay.add(*obj1)\n",
        "assert max(len(np.unique(a)) for a in replay.sample(100)) == 2\n",
        "replay.add(*obj1)\n",
        "assert tuple(np.unique(a) for a in replay.sample(100)) == obj2sampled(obj1)\n",
        "print(\"Success!\")"
      ],
      "execution_count": 33,
      "outputs": [
        {
          "output_type": "stream",
          "text": [
            "Success!\n"
          ],
          "name": "stdout"
        }
      ]
    },
    {
      "cell_type": "markdown",
      "metadata": {
        "id": "h9aUD0Uhzcj_"
      },
      "source": [
        "Now let's use this buffer to improve training:"
      ]
    },
    {
      "cell_type": "code",
      "metadata": {
        "id": "2earW1NVzckA"
      },
      "source": [
        "import gym\n",
        "env = gym.make(\"Taxi-v3\")\n",
        "n_actions = env.action_space.n"
      ],
      "execution_count": 34,
      "outputs": []
    },
    {
      "cell_type": "code",
      "metadata": {
        "id": "FIWABKf9zckA"
      },
      "source": [
        "def play_and_train_with_replay(env, agent, replay=None,\n",
        "                               t_max=10**4, replay_batch_size=32):\n",
        "    \"\"\"\n",
        "    This function should \n",
        "    - run a full game, actions given by agent.getAction(s)\n",
        "    - train agent using agent.update(...) whenever possible\n",
        "    - return total reward\n",
        "    :param replay: ReplayBuffer where agent can store and sample (s,a,r,s',done) tuples.\n",
        "        If None, do not use experience replay\n",
        "    \"\"\"\n",
        "    total_reward = 0.0\n",
        "    s = env.reset()\n",
        "\n",
        "    for t in range(t_max):\n",
        "        # get agent to pick action given state s\n",
        "        a = agent.get_action(s)\n",
        "\n",
        "        next_s, r, done, _ = env.step(a)\n",
        "\n",
        "        agent.update(s, a, r, next_s)\n",
        "\n",
        "        if replay is not None:\n",
        "            # store current <s,a,r,s'> transition in buffer\n",
        "            replay.add(s, a, r, next_s, done)\n",
        "\n",
        "            # sample replay_batch_size random transitions from replay,\n",
        "            # then update agent on each of them in a loop\n",
        "            s_, a_, r_, next_s_, done_ = replay.sample(replay_batch_size)\n",
        "            for i in range(replay_batch_size):\n",
        "                if done_[i] != 1:\n",
        "                  agent.update(s_[i], a_[i], r_[i], next_s_[i])\n",
        "\n",
        "        s = next_s\n",
        "        total_reward += r\n",
        "        if done:\n",
        "            break\n",
        "\n",
        "    return total_reward"
      ],
      "execution_count": 39,
      "outputs": []
    },
    {
      "cell_type": "code",
      "metadata": {
        "id": "FFKquphhzckB"
      },
      "source": [
        "# Create two agents: first will use experience replay, second will not.\n",
        "\n",
        "agent_baseline = QLearningAgent(\n",
        "    alpha=0.5, epsilon=0.25, discount=0.99,\n",
        "    get_legal_actions=lambda s: range(n_actions))\n",
        "\n",
        "agent_replay = QLearningAgent(\n",
        "    alpha=0.5, epsilon=0.25, discount=0.99,\n",
        "    get_legal_actions=lambda s: range(n_actions))\n",
        "\n",
        "replay = ReplayBuffer(1000)"
      ],
      "execution_count": 40,
      "outputs": []
    },
    {
      "cell_type": "code",
      "metadata": {
        "id": "H-nYOl47zckC",
        "outputId": "c9daafa3-f9b8-44b9-cb1e-bb72cab4d47c",
        "colab": {
          "base_uri": "https://localhost:8080/",
          "height": 300
        }
      },
      "source": [
        "from IPython.display import clear_output\n",
        "import pandas as pd\n",
        "\n",
        "def moving_average(x, span=100):\n",
        "    return pd.DataFrame({'x': np.asarray(x)}).x.ewm(span=span).mean().values\n",
        "\n",
        "rewards_replay, rewards_baseline = [], []\n",
        "\n",
        "for i in range(1000):\n",
        "    rewards_replay.append(\n",
        "        play_and_train_with_replay(env, agent_replay, replay))\n",
        "    rewards_baseline.append(\n",
        "        play_and_train_with_replay(env, agent_baseline, replay=None))\n",
        "\n",
        "    agent_replay.epsilon *= 0.99\n",
        "    agent_baseline.epsilon *= 0.99\n",
        "\n",
        "    if i % 100 == 0:\n",
        "        clear_output(True)\n",
        "        print('Baseline : eps =', agent_replay.epsilon,\n",
        "              'mean reward =', np.mean(rewards_baseline[-10:]))\n",
        "        print('ExpReplay: eps =', agent_baseline.epsilon,\n",
        "              'mean reward =', np.mean(rewards_replay[-10:]))\n",
        "        plt.plot(moving_average(rewards_replay), label='exp. replay')\n",
        "        plt.plot(moving_average(rewards_baseline), label='baseline')\n",
        "        plt.grid()\n",
        "        plt.legend()\n",
        "        plt.show()"
      ],
      "execution_count": 41,
      "outputs": [
        {
          "output_type": "stream",
          "text": [
            "Baseline : eps = 2.9191091959171894e-05 mean reward = 8.2\n",
            "ExpReplay: eps = 2.9191091959171894e-05 mean reward = 7.2\n"
          ],
          "name": "stdout"
        },
        {
          "output_type": "display_data",
          "data": {
            "image/png": "[encoded data removed]",
            "text/plain": [
              "<Figure size 432x288 with 1 Axes>"
            ]
          },
          "metadata": {
            "tags": [],
            "needs_background": "light"
          }
        }
      ]
    },
    {
      "cell_type": "markdown",
      "metadata": {
        "id": "M7rA8HXczckD"
      },
      "source": [
        "### Submit to Coursera"
      ]
    },
    {
      "cell_type": "code",
      "metadata": {
        "id": "8Ey85q-OzckD",
        "outputId": "bbbb4d49-8666-4b28-d105-383e618344df",
        "colab": {
          "base_uri": "https://localhost:8080/"
        }
      },
      "source": [
        "from submit import submit_experience_replay\n",
        "submit_experience_replay(rewards_replay, rewards_baseline, 'calvomanfred@gmail.com', '35HtZXCjDTD0rosH')"
      ],
      "execution_count": 42,
      "outputs": [
        {
          "output_type": "stream",
          "text": [
            "Submitted to Coursera platform. See results on assignment page!\n"
          ],
          "name": "stdout"
        }
      ]
    },
    {
      "cell_type": "markdown",
      "metadata": {
        "id": "myGse02ozckE"
      },
      "source": [
        "#### What to expect:\n",
        "\n",
        "Experience replay, if implemented correctly, will improve algorithm's initial convergence a lot, but it shouldn't affect the final performance.\n",
        "\n",
        "### Outro\n",
        "\n",
        "We will use the code you just wrote extensively in the next week of our course. If you're feeling that you need more examples to understand how experience replay works, try using it for binarized state spaces (CartPole or other __[classic control envs](https://gym.openai.com/envs/#classic_control)__).\n",
        "\n",
        "__Next week__ we're gonna explore how q-learning and similar algorithms can be applied for large state spaces, with deep learning models to approximate the Q function.\n",
        "\n",
        "However, __the code you've written__ for this week is already capable of solving many RL problems, and as an added benifit - it is very easy to detach. You can use Q-learning, SARSA and Experience Replay for any RL problems you want to solve - just thow 'em into a file and import the stuff you need."
      ]
    }
  ]
}